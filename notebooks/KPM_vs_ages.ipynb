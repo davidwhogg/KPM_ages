{
 "cells": [
  {
   "cell_type": "markdown",
   "id": "f4103f01-f024-4180-9c1a-c67d379da502",
   "metadata": {},
   "source": [
    "# Looking at age in the KPM results\n",
    "\n",
    "## Authors\n",
    "- **David W. Hogg** (NYU) (MPIA) (Flatiron)\n",
    "- **Emily J. Griffith** (Colorado)\n",
    "\n"
   ]
  },
  {
   "cell_type": "code",
   "execution_count": null,
   "id": "ee0a1b8a-a976-45ca-aa4d-17b6b91573b9",
   "metadata": {},
   "outputs": [],
   "source": [
    "import numpy as np\n",
    "import pylab as plt\n",
    "from astropy.table import Table"
   ]
  },
  {
   "cell_type": "code",
   "execution_count": null,
   "id": "412c5299-b861-404f-9bb6-7814793ce7f6",
   "metadata": {},
   "outputs": [],
   "source": [
    "# read and cut table\n",
    "foo = Table.read(\"../data/APOK_david.csv.gz\", format=\"csv\")\n",
    "good = np.logical_and((foo[\"MG_H_pred\"] > -0.50), (foo[\"LogAge\"] > 2.00))\n",
    "foo = foo[good]"
   ]
  },
  {
   "cell_type": "code",
   "execution_count": null,
   "id": "2e90a0a6-3e05-45b9-bf9e-d8666390a9f7",
   "metadata": {},
   "outputs": [],
   "source": [
    "print(foo.columns)"
   ]
  },
  {
   "cell_type": "code",
   "execution_count": null,
   "id": "0183e054-2e3b-4933-a751-0b5558505ac1",
   "metadata": {},
   "outputs": [],
   "source": [
    "foo[\"FE_MG_obs\"] = foo[\"FE_H_obs\"] - foo[\"MG_H_obs\"]\n",
    "print(foo.columns)"
   ]
  },
  {
   "cell_type": "markdown",
   "id": "311156b3-77f3-4896-8531-754554b8e909",
   "metadata": {},
   "source": [
    "## Look at residuals away from the KPM vs age"
   ]
  },
  {
   "cell_type": "code",
   "execution_count": null,
   "id": "8fbe4e9b-40ba-4b50-b24c-133add11a103",
   "metadata": {},
   "outputs": [],
   "source": [
    "cols = list(foo.columns)\n",
    "for col in cols:\n",
    "    if col[-4:] == \"_obs\":\n",
    "        predcol = col[:-4] + \"_pred\"\n",
    "        newcol = col[:-4] + \"_resid\"\n",
    "        if predcol in cols:\n",
    "            print(\"making\", newcol)\n",
    "            foo[newcol] = foo[col] - foo[predcol]\n",
    "print(foo.columns)"
   ]
  },
  {
   "cell_type": "code",
   "execution_count": null,
   "id": "9c542e5d-a9b3-49e5-bd64-3f6757c5c7ca",
   "metadata": {},
   "outputs": [],
   "source": [
    "labeldict = {}\n",
    "for col in foo.columns:\n",
    "    bar = col.split(\"_\")\n",
    "    if len(bar) == 3:\n",
    "        if len(bar[0]) == 2:\n",
    "            bar[0] = bar[0][0] + bar[0][1].lower()\n",
    "        if bar[0] == \"C+N\":\n",
    "            bar[0] = \"(C+N)\"\n",
    "        if len(bar[1]) == 2:\n",
    "            bar[1] = bar[1][0] + bar[1][1].lower()\n",
    "        label = \"[\" + bar[0] + \"/\" + bar[1] + \"]\"\n",
    "        if bar[2] == \"obs\":\n",
    "            label = \"observed \" + label\n",
    "        if bar[2] == \"pred\":\n",
    "            label = \"KPM-predicted \" + label\n",
    "        if bar[2] == \"resid\":\n",
    "            label = label + \" residual\"\n",
    "        labeldict[col] = label\n",
    "print(labeldict)"
   ]
  },
  {
   "cell_type": "code",
   "execution_count": null,
   "id": "0106076d-6281-42fe-9c50-61fee90e827a",
   "metadata": {},
   "outputs": [],
   "source": [
    "for xcol, xlabel, (a, b) in [(\"LogAge\", \"log age\", ( 2.4, 4.3)),\n",
    "                             (\"C_N\",    \"[C/N]\",   (-1.0, 0.3))]:\n",
    "    X = np.concatenate((foo[xcol][:, None], np.ones_like(foo[xcol])[:, None]), axis=1)\n",
    "    j = 0\n",
    "    fig, ax = plt.subplots(4, 4, figsize=(14, 14))\n",
    "    ax = ax.flatten()\n",
    "    for col in foo.columns:\n",
    "        if col[-6:] == \"_resid\":\n",
    "            (slope, inter), _, _, _ = np.linalg.lstsq(X, foo[col], rcond=None)\n",
    "            ax[j].scatter(foo[xcol], foo[col], s=1, c=(foo[\"AIa\"] / foo[\"Acc\"]))\n",
    "            ax[j].axhline(0., color=\"k\", lw=1, alpha=0.25, zorder=99)\n",
    "            ax[j].plot([a, b], [slope * a + inter, slope * b + inter], \"k-\", lw=1, zorder=100)\n",
    "            ax[j].set_xlim(a, b)\n",
    "            ax[j].set_ylim(-0.4, 0.4)\n",
    "            ax[j].text(a, 0.34, \" \" + labeldict[col] + \" vs \" + xlabel)\n",
    "            j += 1\n",
    "    for jj in range(j, len(ax)):\n",
    "        ax[jj].set_axis_off()\n",
    "    fig.savefig(\"resids_vs_\" + xcol + \".png\")"
   ]
  },
  {
   "cell_type": "markdown",
   "id": "3d32c7eb-3b07-4040-a0ef-e682e7ba3398",
   "metadata": {},
   "source": [
    "## Look at inferring ages from amplitudes and [C/N]"
   ]
  },
  {
   "cell_type": "code",
   "execution_count": null,
   "id": "0d4948d3-45ba-4a64-b58b-74fc5fc2dff7",
   "metadata": {},
   "outputs": [],
   "source": [
    "plt.scatter(np.log(foo[\"Acc\"]), foo[\"AIa\"] / foo[\"Acc\"], s=1, c=foo[\"LogAge\"])\n",
    "plt.xlabel(\"ln(Acc)\")\n",
    "plt.ylabel(\"AIa / Acc\")\n",
    "plt.colorbar(label=\"log age\")\n",
    "plt.title(\"sample\")"
   ]
  },
  {
   "cell_type": "code",
   "execution_count": null,
   "id": "6ba26f4d-f8d5-4adc-9afe-059e16fde11e",
   "metadata": {},
   "outputs": [],
   "source": [
    "plt.scatter(foo[\"C_N\"], foo[\"AIa\"] / foo[\"Acc\"], s=1, c=foo[\"LogAge\"])\n",
    "plt.xlabel(\"[C/N]\")\n",
    "plt.ylabel(\"AIa / Acc\")\n",
    "plt.colorbar(label=\"log age\")\n",
    "plt.title(\"sample\")"
   ]
  },
  {
   "cell_type": "code",
   "execution_count": null,
   "id": "a6e28122-ab4a-493d-a591-8db07bd0de99",
   "metadata": {},
   "outputs": [],
   "source": [
    "# make features and labels\n",
    "X = np.zeros((len(foo), 3))\n",
    "X[:, 0] = np.log(foo[\"Acc\"])\n",
    "X[:, 1] = np.log(foo[\"AIa\"])\n",
    "X[:, 2] = foo[\"C_N\"]\n",
    "Y = np.zeros((len(foo), 2))\n",
    "Y[:, 0] = foo[\"LogAge\"]\n",
    "Y[:, 1] = foo[\"Numax\"]\n",
    "print(X.shape, Y.shape)"
   ]
  },
  {
   "cell_type": "code",
   "execution_count": null,
   "id": "1cde44d5-defc-4319-bc86-aa66223716cc",
   "metadata": {},
   "outputs": [],
   "source": [
    "def knn_regression(X, Y, K, metric=None, dist2=None):\n",
    "    \"\"\"\n",
    "    This is the most naive possible implementation.\n",
    "\n",
    "    ## Bugs:\n",
    "    - A tiny bit of experimenting said `np.mean()` is better than `np.median()` but this is uncertain.\n",
    "    - Not `NaN` safe.\n",
    "    - `metric` is just the diagonal entries of the metric.\n",
    "    - Computes all distances when it should use a tree or something when `N` is large.\n",
    "    \"\"\"\n",
    "    N, D = X.shape\n",
    "    en, M = Y.shape\n",
    "    assert en == N\n",
    "    if metric is None:\n",
    "        metric = np.ones_like(X[0])\n",
    "    if dist2 is None:\n",
    "        dist2 = np.sum(metric[None, None, :] * (X[:, None, :] - X[None, :, :]) ** 2, axis=-1)\n",
    "    indxs = np.argsort(dist2, axis=-1)[:, 1:K+1]\n",
    "    return np.mean(Y[indxs], axis=1), dist2"
   ]
  },
  {
   "cell_type": "code",
   "execution_count": null,
   "id": "1e095b43-963b-4cd9-96f2-0f529dbfe18f",
   "metadata": {},
   "outputs": [],
   "source": [
    "# make metric and regress\n",
    "metric = np.array([1., 1., 1.])\n",
    "K = 41\n",
    "Yhat, _ = knn_regression(X, Y, K, metric)\n",
    "print(Yhat.shape)"
   ]
  },
  {
   "cell_type": "code",
   "execution_count": null,
   "id": "430aa29c-24ca-41e2-b923-ffc67420b802",
   "metadata": {},
   "outputs": [],
   "source": [
    "plt.scatter(Y[:, 0], Yhat[:, 0], s=1, c=foo[\"C_N\"])\n",
    "a, b = plt.ylim()\n",
    "plt.plot([a, b], [a, b], \"k-\", alpha=0.5)\n",
    "plt.ylim(a, b)\n",
    "plt.xlabel(\"true label\")\n",
    "plt.ylabel(\"predicted label\")\n",
    "plt.colorbar(label=\"[C/N]\")\n",
    "plt.title(\"log age\")"
   ]
  },
  {
   "cell_type": "code",
   "execution_count": null,
   "id": "676c4bee-c505-405b-b02c-d34e37ff4233",
   "metadata": {},
   "outputs": [],
   "source": [
    "# now do a hyper-parameter searchd\n",
    "metric = np.array([1., 1., 1.])\n",
    "for K in np.arange(35, 50, 2):\n",
    "    Yhat, _ = knn_regression(X, Y, K, metric)\n",
    "    mad = np.median(np.abs(Y[:, 0] - Yhat[:, 0])) # just look at logage\n",
    "    print(K, mad)"
   ]
  },
  {
   "cell_type": "code",
   "execution_count": null,
   "id": "77bb00e3-9fc1-44ce-8c35-9ff1531ca2c7",
   "metadata": {},
   "outputs": [],
   "source": [
    "# now do another hyper-parameter search\n",
    "K = 41\n",
    "metric = np.array([1., 1., 1.])\n",
    "for alpha in [0.3, 0.6, 1.0, 1.5, 3.0]:\n",
    "    metric[-1] = alpha\n",
    "    Yhat, _ = knn_regression(X, Y, K, metric)\n",
    "    mad = np.median(np.abs(Y[:, 0] - Yhat[:, 0])) # just look at logage\n",
    "    print(metric, mad)"
   ]
  },
  {
   "cell_type": "code",
   "execution_count": null,
   "id": "cdd65023-88a6-4c34-9aab-2b5b0c087749",
   "metadata": {},
   "outputs": [],
   "source": []
  }
 ],
 "metadata": {
  "kernelspec": {
   "display_name": "Python 3 (ipykernel)",
   "language": "python",
   "name": "python3"
  },
  "language_info": {
   "codemirror_mode": {
    "name": "ipython",
    "version": 3
   },
   "file_extension": ".py",
   "mimetype": "text/x-python",
   "name": "python",
   "nbconvert_exporter": "python",
   "pygments_lexer": "ipython3",
   "version": "3.9.6"
  }
 },
 "nbformat": 4,
 "nbformat_minor": 5
}
